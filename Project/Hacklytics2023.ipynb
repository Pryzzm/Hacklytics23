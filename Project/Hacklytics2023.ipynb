{
  "nbformat": 4,
  "nbformat_minor": 0,
  "metadata": {
    "colab": {
      "provenance": []
    },
    "kernelspec": {
      "name": "python3",
      "display_name": "Python 3"
    },
    "language_info": {
      "name": "python"
    }
  },
  "cells": [
    {
      "cell_type": "markdown",
      "source": [
        "#Recipe Classification for Diabetes Risk Factors\n",
        "Panggih Kusuma Ningrum​, Elise Yang​, Ryan Young​, Diana ​"
      ],
      "metadata": {
        "id": "JvdKsdgZVnxS"
      }
    },
    {
      "cell_type": "markdown",
      "source": [
        "Diabetes is a large issue in the developed world. Everyone can share their recipes freely online. People can recreate these recipes. However, many people do it without having any knowledge of the nutrients contained in the recipes, and most of people have lack of knowledge of the potential health risk factors in the ingredients, specifically for people with a risk for diabetes.\n",
        "\n",
        "We are looking to:\n",
        "\n",
        "\n",
        "*   Categorize ingredients by risk factor, low/med/high, and see if this varies based on amount\n",
        "*   Identify potential ingredient substitutions to make a dish a lower risk factor\n",
        "*   Identify common ingredients in various cuisines or diets, to determine how that cuisine or diet as a whole affects diebetes risk\n",
        "\n"
      ],
      "metadata": {
        "id": "AtR_nMRjWn9e"
      }
    },
    {
      "cell_type": "markdown",
      "source": [
        "##Datesets:\n",
        "The most essential dataset being used for this project is a [food ingredients dataset](https://www.kaggle.com/datasets/thedevastator/now-with-more-nutrients) from kaggle, which itself is a cleaned and redily usable extraction of the USDA's FoodData Central dataset. It includes a list of foods and all of its nutrients based on a 100 gram portion.\n",
        "\n",
        "The others being used, [recipes/diet/cuisines](https://www.kaggle.com/datasets/thedevastator/healthy-diet-recipes-a-comprehensive-dataset), and [Indian foods and recipes](https://www.kaggle.com/datasets/kanishk307/6000-indian-food-recipes-dataset) are to be used for the classifaction side of things. To show what foods are healthy or not, and the differences in cuisines and diets."
      ],
      "metadata": {
        "id": "YoBCWRVycamP"
      }
    },
    {
      "cell_type": "markdown",
      "source": [
        "###Preliminary Data Cleaning an Analysis:"
      ],
      "metadata": {
        "id": "kZ17vIR9qigg"
      }
    },
    {
      "cell_type": "code",
      "source": [
        "#Relative imports\n",
        "\n",
        "import pandas as pd\n",
        "import numpy as np\n",
        "from sklearn.model_selection import train_test_split\n",
        "from sklearn.linear_model import LinearRegression"
      ],
      "metadata": {
        "id": "ftW_mtffcTWH"
      },
      "execution_count": 12,
      "outputs": []
    },
    {
      "cell_type": "code",
      "source": [
        "from google.colab import drive\n",
        "drive.mount('/content/drive')"
      ],
      "metadata": {
        "colab": {
          "base_uri": "https://localhost:8080/"
        },
        "id": "t7gSGceDlrLH",
        "outputId": "b38f4341-9aaa-4a2b-ddca-ea2d5abc677b"
      },
      "execution_count": 13,
      "outputs": [
        {
          "output_type": "stream",
          "name": "stdout",
          "text": [
            "Drive already mounted at /content/drive; to attempt to forcibly remount, call drive.mount(\"/content/drive\", force_remount=True).\n"
          ]
        }
      ]
    },
    {
      "cell_type": "code",
      "source": [
        "'''\n",
        "If you upload the csv files to your google drive into a folder of the same name, \"Hacklytics2023\" it\n",
        "should be able to mount to yours fine and no adjustment necessary. When uploading this to github, \n",
        "we can just adjust the name to whatever self folder it is and it should be fine.\n",
        "'''\n",
        "cleanedIngredients = pd.read_csv(open(\"/content/drive/My Drive/Hacklytics2023/cleaned_ingredients.csv\"))\n",
        "allDiets = pd.read_csv(open(\"/content/drive/My Drive/Hacklytics2023/All_Diets.csv\"))\n",
        "indianFood = pd.read_csv(open(\"/content/drive/My Drive/Hacklytics2023/IndianFoodDatasetCSV.csv\"))\n"
      ],
      "metadata": {
        "id": "5p6SFtgplsZ3"
      },
      "execution_count": 14,
      "outputs": []
    },
    {
      "cell_type": "code",
      "source": [
        "cleanedIngredients.dtypes"
      ],
      "metadata": {
        "colab": {
          "base_uri": "https://localhost:8080/"
        },
        "id": "JjZLfbA6m-IK",
        "outputId": "d6dc0009-ed38-4789-dbf3-f3f23e4bab9e"
      },
      "execution_count": 15,
      "outputs": [
        {
          "output_type": "execute_result",
          "data": {
            "text/plain": [
              "NDB_No               object\n",
              "Descrip              object\n",
              "Energy_kcal         float64\n",
              "Protein_g           float64\n",
              "Saturated_fats_g    float64\n",
              "Fat_g               float64\n",
              "Carb_g              float64\n",
              "Fiber_g             float64\n",
              "Sugar_g             float64\n",
              "Calcium_mg          float64\n",
              "Iron_mg             float64\n",
              "Magnesium_mg         object\n",
              "Phosphorus_mg       float64\n",
              "Potassium_mg        float64\n",
              "Sodium_mg           float64\n",
              "Zinc_mg             float64\n",
              "Copper_mcg          float64\n",
              "Manganese_mg        float64\n",
              "Selenium_mcg        float64\n",
              "VitC_mg             float64\n",
              "Thiamin_mg          float64\n",
              "Riboflavin_mg       float64\n",
              "Niacin_mg           float64\n",
              "VitB6_mg            float64\n",
              "Folate_mcg          float64\n",
              "VitB12_mcg          float64\n",
              "VitA_mcg            float64\n",
              "VitE_mg              object\n",
              "VitD2_mcg           float64\n",
              "dtype: object"
            ]
          },
          "metadata": {},
          "execution_count": 15
        }
      ]
    },
    {
      "cell_type": "code",
      "source": [
        "allDiets.dtypes"
      ],
      "metadata": {
        "colab": {
          "base_uri": "https://localhost:8080/"
        },
        "id": "mtJwVddanCrR",
        "outputId": "8c3ecb69-a360-46bf-a760-f085d20d97cd"
      },
      "execution_count": 16,
      "outputs": [
        {
          "output_type": "execute_result",
          "data": {
            "text/plain": [
              "Diet_type           object\n",
              "Recipe_name         object\n",
              "Cuisine_type        object\n",
              "Protein(g)         float64\n",
              "Carbs(g)           float64\n",
              "Fat(g)             float64\n",
              "Extraction_day      object\n",
              "Extraction_time     object\n",
              "dtype: object"
            ]
          },
          "metadata": {},
          "execution_count": 16
        }
      ]
    },
    {
      "cell_type": "code",
      "source": [
        "#dropping irrelevant columns\n",
        "allDiets.drop([\"Extraction_day\", \"Extraction_time\"], axis=1, inplace=True)"
      ],
      "metadata": {
        "id": "CSmy_O6Qn1_U"
      },
      "execution_count": 17,
      "outputs": []
    },
    {
      "cell_type": "code",
      "source": [
        "indianFood.dtypes"
      ],
      "metadata": {
        "colab": {
          "base_uri": "https://localhost:8080/"
        },
        "id": "eqCDf9lMnOHX",
        "outputId": "3fcd8cf2-4933-4133-d98a-b55dd40c01c5"
      },
      "execution_count": 18,
      "outputs": [
        {
          "output_type": "execute_result",
          "data": {
            "text/plain": [
              "Srno                       int64\n",
              "RecipeName                object\n",
              "TranslatedRecipeName      object\n",
              "Ingredients               object\n",
              "TranslatedIngredients     object\n",
              "PrepTimeInMins             int64\n",
              "CookTimeInMins             int64\n",
              "TotalTimeInMins            int64\n",
              "Servings                   int64\n",
              "Cuisine                   object\n",
              "Course                    object\n",
              "Diet                      object\n",
              "Instructions              object\n",
              "TranslatedInstructions    object\n",
              "URL                       object\n",
              "dtype: object"
            ]
          },
          "metadata": {},
          "execution_count": 18
        }
      ]
    },
    {
      "cell_type": "code",
      "source": [
        "#dropping irrelevant columns\n",
        "indianFood.drop([\"RecipeName\", \"Ingredients\", \"PrepTimeInMins\", \"CookTimeInMins\", \"TotalTimeInMins\",\n",
        "                 \"Course\", \"Instructions\", \"TranslatedInstructions\", \"URL\"], axis=1, inplace=True)"
      ],
      "metadata": {
        "id": "42fVdFpXnTG7"
      },
      "execution_count": 19,
      "outputs": []
    },
    {
      "cell_type": "code",
      "source": [
        "#data exploration\n",
        "allDiets.head(5)"
      ],
      "metadata": {
        "colab": {
          "base_uri": "https://localhost:8080/",
          "height": 206
        },
        "id": "wF6QkqrWqAUJ",
        "outputId": "43177ce9-ad01-4fbd-ac98-36b0273fe9be"
      },
      "execution_count": 20,
      "outputs": [
        {
          "output_type": "execute_result",
          "data": {
            "text/plain": [
              "  Diet_type                                        Recipe_name  \\\n",
              "0     paleo                    Bone Broth From 'Nom Nom Paleo'   \n",
              "1     paleo  Paleo Effect Asian-Glazed Pork Sides, A Sweet ...   \n",
              "2     paleo                                  Paleo Pumpkin Pie   \n",
              "3     paleo                       Strawberry Guacamole recipes   \n",
              "4     paleo  Asian Cauliflower Fried \"Rice\" From 'Nom Nom P...   \n",
              "\n",
              "       Cuisine_type  Protein(g)  Carbs(g)  Fat(g)  \n",
              "0          american        5.22      1.29    3.20  \n",
              "1  south east asian      181.55     28.62  146.14  \n",
              "2          american       30.91    302.59   96.76  \n",
              "3           mexican        9.62     75.78   59.89  \n",
              "4           chinese       39.84     54.08   71.55  "
            ],
            "text/html": [
              "\n",
              "  <div id=\"df-1b01a424-b0d8-484a-8bc1-b1ea447298ed\">\n",
              "    <div class=\"colab-df-container\">\n",
              "      <div>\n",
              "<style scoped>\n",
              "    .dataframe tbody tr th:only-of-type {\n",
              "        vertical-align: middle;\n",
              "    }\n",
              "\n",
              "    .dataframe tbody tr th {\n",
              "        vertical-align: top;\n",
              "    }\n",
              "\n",
              "    .dataframe thead th {\n",
              "        text-align: right;\n",
              "    }\n",
              "</style>\n",
              "<table border=\"1\" class=\"dataframe\">\n",
              "  <thead>\n",
              "    <tr style=\"text-align: right;\">\n",
              "      <th></th>\n",
              "      <th>Diet_type</th>\n",
              "      <th>Recipe_name</th>\n",
              "      <th>Cuisine_type</th>\n",
              "      <th>Protein(g)</th>\n",
              "      <th>Carbs(g)</th>\n",
              "      <th>Fat(g)</th>\n",
              "    </tr>\n",
              "  </thead>\n",
              "  <tbody>\n",
              "    <tr>\n",
              "      <th>0</th>\n",
              "      <td>paleo</td>\n",
              "      <td>Bone Broth From 'Nom Nom Paleo'</td>\n",
              "      <td>american</td>\n",
              "      <td>5.22</td>\n",
              "      <td>1.29</td>\n",
              "      <td>3.20</td>\n",
              "    </tr>\n",
              "    <tr>\n",
              "      <th>1</th>\n",
              "      <td>paleo</td>\n",
              "      <td>Paleo Effect Asian-Glazed Pork Sides, A Sweet ...</td>\n",
              "      <td>south east asian</td>\n",
              "      <td>181.55</td>\n",
              "      <td>28.62</td>\n",
              "      <td>146.14</td>\n",
              "    </tr>\n",
              "    <tr>\n",
              "      <th>2</th>\n",
              "      <td>paleo</td>\n",
              "      <td>Paleo Pumpkin Pie</td>\n",
              "      <td>american</td>\n",
              "      <td>30.91</td>\n",
              "      <td>302.59</td>\n",
              "      <td>96.76</td>\n",
              "    </tr>\n",
              "    <tr>\n",
              "      <th>3</th>\n",
              "      <td>paleo</td>\n",
              "      <td>Strawberry Guacamole recipes</td>\n",
              "      <td>mexican</td>\n",
              "      <td>9.62</td>\n",
              "      <td>75.78</td>\n",
              "      <td>59.89</td>\n",
              "    </tr>\n",
              "    <tr>\n",
              "      <th>4</th>\n",
              "      <td>paleo</td>\n",
              "      <td>Asian Cauliflower Fried \"Rice\" From 'Nom Nom P...</td>\n",
              "      <td>chinese</td>\n",
              "      <td>39.84</td>\n",
              "      <td>54.08</td>\n",
              "      <td>71.55</td>\n",
              "    </tr>\n",
              "  </tbody>\n",
              "</table>\n",
              "</div>\n",
              "      <button class=\"colab-df-convert\" onclick=\"convertToInteractive('df-1b01a424-b0d8-484a-8bc1-b1ea447298ed')\"\n",
              "              title=\"Convert this dataframe to an interactive table.\"\n",
              "              style=\"display:none;\">\n",
              "        \n",
              "  <svg xmlns=\"http://www.w3.org/2000/svg\" height=\"24px\"viewBox=\"0 0 24 24\"\n",
              "       width=\"24px\">\n",
              "    <path d=\"M0 0h24v24H0V0z\" fill=\"none\"/>\n",
              "    <path d=\"M18.56 5.44l.94 2.06.94-2.06 2.06-.94-2.06-.94-.94-2.06-.94 2.06-2.06.94zm-11 1L8.5 8.5l.94-2.06 2.06-.94-2.06-.94L8.5 2.5l-.94 2.06-2.06.94zm10 10l.94 2.06.94-2.06 2.06-.94-2.06-.94-.94-2.06-.94 2.06-2.06.94z\"/><path d=\"M17.41 7.96l-1.37-1.37c-.4-.4-.92-.59-1.43-.59-.52 0-1.04.2-1.43.59L10.3 9.45l-7.72 7.72c-.78.78-.78 2.05 0 2.83L4 21.41c.39.39.9.59 1.41.59.51 0 1.02-.2 1.41-.59l7.78-7.78 2.81-2.81c.8-.78.8-2.07 0-2.86zM5.41 20L4 18.59l7.72-7.72 1.47 1.35L5.41 20z\"/>\n",
              "  </svg>\n",
              "      </button>\n",
              "      \n",
              "  <style>\n",
              "    .colab-df-container {\n",
              "      display:flex;\n",
              "      flex-wrap:wrap;\n",
              "      gap: 12px;\n",
              "    }\n",
              "\n",
              "    .colab-df-convert {\n",
              "      background-color: #E8F0FE;\n",
              "      border: none;\n",
              "      border-radius: 50%;\n",
              "      cursor: pointer;\n",
              "      display: none;\n",
              "      fill: #1967D2;\n",
              "      height: 32px;\n",
              "      padding: 0 0 0 0;\n",
              "      width: 32px;\n",
              "    }\n",
              "\n",
              "    .colab-df-convert:hover {\n",
              "      background-color: #E2EBFA;\n",
              "      box-shadow: 0px 1px 2px rgba(60, 64, 67, 0.3), 0px 1px 3px 1px rgba(60, 64, 67, 0.15);\n",
              "      fill: #174EA6;\n",
              "    }\n",
              "\n",
              "    [theme=dark] .colab-df-convert {\n",
              "      background-color: #3B4455;\n",
              "      fill: #D2E3FC;\n",
              "    }\n",
              "\n",
              "    [theme=dark] .colab-df-convert:hover {\n",
              "      background-color: #434B5C;\n",
              "      box-shadow: 0px 1px 3px 1px rgba(0, 0, 0, 0.15);\n",
              "      filter: drop-shadow(0px 1px 2px rgba(0, 0, 0, 0.3));\n",
              "      fill: #FFFFFF;\n",
              "    }\n",
              "  </style>\n",
              "\n",
              "      <script>\n",
              "        const buttonEl =\n",
              "          document.querySelector('#df-1b01a424-b0d8-484a-8bc1-b1ea447298ed button.colab-df-convert');\n",
              "        buttonEl.style.display =\n",
              "          google.colab.kernel.accessAllowed ? 'block' : 'none';\n",
              "\n",
              "        async function convertToInteractive(key) {\n",
              "          const element = document.querySelector('#df-1b01a424-b0d8-484a-8bc1-b1ea447298ed');\n",
              "          const dataTable =\n",
              "            await google.colab.kernel.invokeFunction('convertToInteractive',\n",
              "                                                     [key], {});\n",
              "          if (!dataTable) return;\n",
              "\n",
              "          const docLinkHtml = 'Like what you see? Visit the ' +\n",
              "            '<a target=\"_blank\" href=https://colab.research.google.com/notebooks/data_table.ipynb>data table notebook</a>'\n",
              "            + ' to learn more about interactive tables.';\n",
              "          element.innerHTML = '';\n",
              "          dataTable['output_type'] = 'display_data';\n",
              "          await google.colab.output.renderOutput(dataTable, element);\n",
              "          const docLink = document.createElement('div');\n",
              "          docLink.innerHTML = docLinkHtml;\n",
              "          element.appendChild(docLink);\n",
              "        }\n",
              "      </script>\n",
              "    </div>\n",
              "  </div>\n",
              "  "
            ]
          },
          "metadata": {},
          "execution_count": 20
        }
      ]
    },
    {
      "cell_type": "code",
      "source": [
        "'''\n",
        "I find these comparisons rather interesting actually, how as far as average goes, \n",
        "lots of diets and cruisines are generally similar\n",
        "'''\n",
        "allDiets.drop(\"Recipe_name\", axis=1).groupby([\"Cuisine_type\"]).mean().plot.bar(figsize=(10, 3))\n",
        "allDiets.drop(\"Recipe_name\", axis=1).groupby([\"Diet_type\"]).mean().plot.bar(figsize=(10, 3))"
      ],
      "metadata": {
        "colab": {
          "base_uri": "https://localhost:8080/",
          "height": 589
        },
        "id": "K9bOA__BrIzT",
        "outputId": "b7622cb4-5fb1-4eed-9c9e-35959575945e"
      },
      "execution_count": 21,
      "outputs": [
        {
          "output_type": "execute_result",
          "data": {
            "text/plain": [
              "<matplotlib.axes._subplots.AxesSubplot at 0x7f30affca970>"
            ]
          },
          "metadata": {},
          "execution_count": 21
        },
        {
          "output_type": "display_data",
          "data": {
            "text/plain": [
              "<Figure size 720x216 with 1 Axes>"
            ],
            "image/png": "[encoded data removed]"
          },
          "metadata": {
            "needs_background": "light"
          }
        },
        {
          "output_type": "display_data",
          "data": {
            "text/plain": [
              "<Figure size 720x216 with 1 Axes>"
            ],
            "image/png": "[encoded data removed]"
          },
          "metadata": {
            "needs_background": "light"
          }
        }
      ]
    },
    {
      "cell_type": "code",
      "source": [
        "cleanedIngredients['Risk Level (Men)'] = 0\n",
        "\n",
        "def add_values(df, colname, newcolname, val, lowval, highval):\n",
        "    extra_cond = df[newcolname] < val\n",
        "    df.loc[((df[colname] >= lowval) & (df[colname] < highval) & (extra_cond)), newcolname] = val\n",
        "    return df\n",
        "\n",
        "cleanedIngredients = add_values(cleanedIngredients, 'Sugar_g', 'Risk Level (Men)', 0, 0, 30)\n",
        "cleanedIngredients = add_values(cleanedIngredients, 'Sugar_g', 'Risk Level (Men)', 1, 30, 50)\n",
        "cleanedIngredients = add_values(cleanedIngredients, 'Sugar_g', 'Risk Level (Men)', 2, 50, 1000)\n",
        "    \n",
        "cleanedIngredients = add_values(cleanedIngredients, 'Carb_g', 'Risk Level (Men)', 0, 0, 50)\n",
        "cleanedIngredients = add_values(cleanedIngredients, 'Carb_g', 'Risk Level (Men)', 1, 50, 80)\n",
        "cleanedIngredients = add_values(cleanedIngredients, 'Carb_g', 'Risk Level (Men)', 2, 80, 100)\n",
        "\n",
        "cleanedIngredients = add_values(cleanedIngredients, 'Saturated_fats_g', 'Risk Level (Men)', 0, 0, 20)\n",
        "cleanedIngredients = add_values(cleanedIngredients, 'Saturated_fats_g', 'Risk Level (Men)', 1, 20, 40)\n",
        "cleanedIngredients = add_values(cleanedIngredients, 'Saturated_fats_g', 'Risk Level (Men)', 2, 40, 1000)\n",
        "\n",
        "cleanedIngredients = add_values(cleanedIngredients, 'Fat_g', 'Risk Level (Men)', 0, 0, 30)\n",
        "cleanedIngredients = add_values(cleanedIngredients, 'Fat_g', 'Risk Level (Men)', 1, 30, 50)\n",
        "cleanedIngredients = add_values(cleanedIngredients, 'Fat_g', 'Risk Level (Men)', 2, 50, 1000)\n",
        "\n",
        "print('Count of Low-risk Ingredients:', len(cleanedIngredients[cleanedIngredients['Risk Level (Men)'] == 0]))\n",
        "print('Count of Mid-risk Ingredients:', len(cleanedIngredients[cleanedIngredients['Risk Level (Men)'] == 1]))\n",
        "print('Count of High-risk Ingredients:',len(cleanedIngredients[cleanedIngredients['Risk Level (Men)'] == 2]))"
      ],
      "metadata": {
        "id": "Zst2LmxW9qWb",
        "colab": {
          "base_uri": "https://localhost:8080/"
        },
        "outputId": "665737d6-5017-4e6e-96f0-a2574fa24a48"
      },
      "execution_count": 22,
      "outputs": [
        {
          "output_type": "stream",
          "name": "stdout",
          "text": [
            "Count of Low-risk Ingredients: 6886\n",
            "Count of Mid-risk Ingredients: 1610\n",
            "Count of High-risk Ingredients: 822\n"
          ]
        }
      ]
    },
    {
      "cell_type": "code",
      "source": [
        "X, y = cleanedIngredients[['Saturated_fats_g', 'Fat_g', 'Carb_g', 'Sugar_g']], cleanedIngredients['Risk Level (Men)']\n",
        "\n",
        "# split data into train and test\n",
        "X_train, X_test, y_train, y_test = train_test_split(X, y, test_size = 0.30, random_state = 42)\n",
        "\n",
        "# linear regression model and model accuracy\n",
        "regr = LinearRegression().fit(X_train, y_train)\n",
        "print(\"Accuracy Score: \", regr.score(X_test, y_test))\n"
      ],
      "metadata": {
        "id": "KPhdbPi2-D4x",
        "colab": {
          "base_uri": "https://localhost:8080/"
        },
        "outputId": "5dd51eda-ca87-4e8c-c3f3-5b188d373520"
      },
      "execution_count": 23,
      "outputs": [
        {
          "output_type": "stream",
          "name": "stdout",
          "text": [
            "Accuracy Score:  0.7717756868291276\n"
          ]
        }
      ]
    }
  ]
}